{
  "cells": [
    {
      "cell_type": "markdown",
      "metadata": {
        "id": "view-in-github",
        "colab_type": "text"
      },
      "source": [
        "<a href=\"https://colab.research.google.com/github/z5381940/szx_blog/blob/main/Laboratory_07_CV_Intro_ANN.ipynb\" target=\"_parent\"><img src=\"https://colab.research.google.com/assets/colab-badge.svg\" alt=\"Open In Colab\"/></a>"
      ]
    },
    {
      "cell_type": "markdown",
      "source": [
        "---\n",
        "---"
      ],
      "metadata": {
        "id": "YyXuqcNXYwTZ"
      }
    },
    {
      "cell_type": "markdown",
      "metadata": {
        "id": "6nhnOcx-H4r7"
      },
      "source": [
        "![alt text](https://drive.google.com/uc?export=view&id=1DXUVHxd4t15mfuqMgMCLnsP4jWVI5EWz)\n",
        "\n",
        "---\n",
        "\n",
        "<br>\n",
        "© 2024 Copyright The University of New South Wales - CRICOS 00098G\n",
        "\n",
        "**Author**: Oscar Perez-Concha: o.perezconcha@unsw.edu.au\n",
        "\n",
        "**Contributors/Co-authors**: Marta Fredes-Torres and Zhisheng (Sandy) Sa."
      ]
    },
    {
      "cell_type": "markdown",
      "source": [
        "\n",
        "\n",
        "---\n",
        "---\n"
      ],
      "metadata": {
        "id": "lkopmhBAYl-a"
      }
    },
    {
      "cell_type": "markdown",
      "metadata": {
        "id": "p3XWRVcUWeRw"
      },
      "source": [
        "# Laboratory 7: Artificial Neural Networks / Deep Learning"
      ]
    },
    {
      "cell_type": "markdown",
      "source": [
        "\n",
        "# 1. Introduction\n",
        "\n",
        "In this exercise, we will build our first dense neural network using Keras. Exciting!\n",
        "\n",
        "\n",
        "## 1.1. Aims of the Exercise:\n",
        "\n",
        "1. This is an introduction to Artificial Neural Networks / Deep Learning.\n",
        "2. We will use Keras, a high-level API built on top of Tensorflow.\n",
        "It aligns with all of the learning outcomes of our course:\n",
        "\n",
        "1.\tDistinguish a range of task specific machine learning techniques appropriate for Health Data Science.\n",
        "2.\tDesign machine learning tasks for Health Data Science scenarios.\n",
        "\n",
        "\n",
        "## 1.2. Jupyter Notebook Intructions\n",
        "1. Read the content of each cell.\n",
        "2. Where necessary, follow the instructions that are written in each cell.\n",
        "3. Run/Execute all the cells that contain Python code sequentially (one at a time), using the \"Run\" button.\n",
        "4. For those cells in which you are asked to write some code, please write the Python code first and then execute/run the cell.\n",
        "\n",
        "## 1.3. Tips\n",
        "1. Run all the cells in sequence (one at a time), using the \"Run\" button.\n",
        "2. To edit this notebook, just double-click in each cell. Choose between \"Code\" cell or text \"Markdown\" cell in the combo-box above.\n",
        "3. If you want to save your notebook, please go File->Save a copy on Drive/GitHub.\n",
        "4. To clean the content of all cells and re-start Notebook, please go to Edit->Clear all outputs then Runtime->Restart runtime\n",
        "\n",
        "Follow the instructions given and if you have any questions, please use the **Comments section** in **Open Learning**."
      ],
      "metadata": {
        "id": "aSAIbOzXZIQ7"
      }
    },
    {
      "cell_type": "markdown",
      "source": [
        "---\n",
        "---"
      ],
      "metadata": {
        "id": "ZdohVFA9ZXJD"
      }
    },
    {
      "cell_type": "markdown",
      "metadata": {
        "id": "pgVK8dQpH4r_"
      },
      "source": [
        "# 2. Initial Docstring:\n",
        "\n",
        "\n",
        "All programs should have an initial docstring comment. It must include at least the following elements:\n",
        "\n",
        "* Purpose: what is the aim of your code?\n",
        "* Date created\n",
        "* Author\n",
        "* Date modified\n",
        "* Author of the modification\n",
        "* Method: how did you go about solving the problem?\n",
        "* Data dictionary: The data dictionary should contain all the important variables and constants defined, their datatype (float, string, int) and a short description of what they are.\n",
        "* List and defintions of functions: similar to the data dictionary, but with functions.\n",
        "* List of libraries: libraries used in the program and their functionality.\n",
        "\n",
        "Is there anything else you think we should include in the docstring? Please comment in the comments section of this week's laboratory.\n",
        "\n",
        "Please read these two documents:\n",
        "1. pandas docstring guide: https://pandas.pydata.org/pandas-docs/version/0.23/contributing_docstring.html\n",
        "2. Style guide: https://www.cse.unsw.edu.au/~en1811/resources/style.html\n"
      ]
    },
    {
      "cell_type": "markdown",
      "source": [
        "<b> Docstring:</b>\n",
        "################################################################################\n",
        "\n",
        "\n",
        "\n",
        "################################################################################"
      ],
      "metadata": {
        "id": "g55910FsZxp9"
      }
    },
    {
      "cell_type": "markdown",
      "source": [
        "\n",
        "\n",
        "---\n",
        "---\n",
        "\n",
        "\n"
      ],
      "metadata": {
        "id": "sw1X3YsPaDKr"
      }
    },
    {
      "cell_type": "markdown",
      "metadata": {
        "id": "Vk6AMHscH4sB"
      },
      "source": [
        "# 3. Research Question:\n",
        "\n",
        "We will detect malaria cells that are parasitized with ANN (Artificial Neural Networks) algorithms."
      ]
    },
    {
      "cell_type": "markdown",
      "metadata": {
        "id": "XNqS2ujKH4sH"
      },
      "source": [
        "\n",
        "\n",
        "Now let's have a look what these images look like first:\n",
        "\n",
        "**The parasitized images**\n",
        "\n",
        "![alt text](https://drive.google.com/uc?export=view&id=1a2Qopc2ejiW3RkpLOCIge4b42tYIEaqq)\n",
        "\n",
        "![alt text](https://drive.google.com/uc?export=view&id=1cEJxQmXAcgc0f8Mo8hSsSO9s5m183Qil)\n",
        "\n",
        "![alt text](https://drive.google.com/uc?export=view&id=1BM-l4FO1ClvtjqA9D397ZDwjkrit8bYn)\n",
        "\n",
        "![alt text](https://drive.google.com/uc?export=view&id=1CZJitEjxDcbtKzOSXvv1LiETwxQloLEi)\n",
        "\n",
        "**The uninfected images**\n",
        "\n",
        "![alt text](https://drive.google.com/uc?export=view&id=1ak0EI4p5w387kxmeLuUuIr5MTL6kY5se)\n",
        "\n",
        "![alt text](https://drive.google.com/uc?export=view&id=1HB8wJyfrFTSTijmck4nsS90iMUQhDpaI)\n",
        "\n",
        "![alt text](https://drive.google.com/uc?export=view&id=11Xvt0uCFlT3r7s7Bj6d8a99z29ZkJgQJ)\n",
        "\n",
        "![alt text](https://drive.google.com/uc?export=view&id=1a0UdWFtY7FxUrlXgVGTqoI-qIdEQZRsI)\n"
      ]
    },
    {
      "cell_type": "markdown",
      "source": [
        "\n",
        "\n",
        "---\n",
        "---\n"
      ],
      "metadata": {
        "id": "_rkKMc44q0fi"
      }
    },
    {
      "cell_type": "markdown",
      "source": [
        "# 4. Instructions:  "
      ],
      "metadata": {
        "id": "dUMU5LiFq6rD"
      }
    },
    {
      "cell_type": "markdown",
      "source": [
        "![alt text](https://drive.google.com/uc?export=view&id=105SGqeyo8RgLhSO8mN7ZE5OsG0YiLPKt)"
      ],
      "metadata": {
        "id": "YsrLu-yUYcBj"
      }
    },
    {
      "cell_type": "markdown",
      "source": [
        "\n",
        "\n",
        "---\n",
        "---"
      ],
      "metadata": {
        "id": "K5WEW5UIqhJT"
      }
    },
    {
      "cell_type": "markdown",
      "source": [
        "1. Load and preprocess the dataset:\n",
        "\n",
        "    a. Dataset: https://www.tensorflow.org/datasets/catalog/malaria\n",
        "\n",
        "    b. The dataset is split into 10% for training, 5% for validation, and 10% for testing. That is, we will use only 25% of the data. We will use only 10% of the data for training to keep the training time short.\n",
        "\n",
        "    c. In order to load the data, use [`tfds.load`](https://www.tensorflow.org/datasets/api_docs/python/tfds/load) and the arguments `split` and `as_supervised`. That is, when you load the dataset, you will split the data into training, validation and test.  The malaria dataset in TensorFlow Datasets (TFDS) has only one `split` called \"train\". This is common for many TFDS datasets, where the default split provided is the training set. You can create your own validation and test splits from this training set if needed. That is, from what TFDS calls 'train', extract 10% for our training set, 5% for the validation set, and 10% for the test set.\n",
        "\n",
        "    d. Resize and normalize the images.\n",
        "\n",
        "    e. Use the book, the tensorflow and keras API's documentation, Copilot, ChatGPT and Internet forums to find the answers.\n",
        "\n",
        "2. Build and compile the model:\n",
        "\n",
        "    a. A simple FNN with one hidden layer containing 128 units and ReLU activation.\n",
        "    \n",
        "    b. Output layer with one unit and sigmoid activation for binary classification.\n",
        "\n",
        "    c. This week's reading material covers this part.\n",
        "\n",
        "3. Train the model:\n",
        "\n",
        "    a. Train the model for 5 epochs, which should be quick given the small dataset.\n",
        "\n",
        "    b. This week's reading material covers this part.\n",
        "\n",
        "\n",
        "4. Evaluate the model:\n",
        "\n",
        "    a. Collect predictions.\n",
        "\n",
        "    b. Compute and display the confusion matrix using Matplotlib.\n",
        "    \n",
        "    c. Print the classification report using sklearn.\n",
        "\n",
        "5. Post your solution in Open Learning (OL). There is not a prescribed solution this week. We will work together to build the solution by sharing our notebooks in OL."
      ],
      "metadata": {
        "id": "xiNeVmFXi_7v"
      }
    },
    {
      "cell_type": "code",
      "source": [],
      "metadata": {
        "id": "nrqSKv5WsZB7"
      },
      "execution_count": null,
      "outputs": []
    }
  ],
  "metadata": {
    "colab": {
      "provenance": [],
      "include_colab_link": true
    },
    "interpreter": {
      "hash": "aee8b7b246df8f9039afb4144a1f6fd8d2ca17a180786b69acc140d282b71a49"
    },
    "kernelspec": {
      "display_name": "Python 3.7.4 64-bit",
      "language": "python",
      "name": "python3"
    },
    "language_info": {
      "codemirror_mode": {
        "name": "ipython",
        "version": 3
      },
      "file_extension": ".py",
      "mimetype": "text/x-python",
      "name": "python",
      "nbconvert_exporter": "python",
      "pygments_lexer": "ipython3",
      "version": "3.7.4"
    }
  },
  "nbformat": 4,
  "nbformat_minor": 0
}